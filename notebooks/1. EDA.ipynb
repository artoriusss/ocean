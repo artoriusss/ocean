{
 "cells": [
  {
   "cell_type": "code",
   "execution_count": 1,
   "metadata": {},
   "outputs": [
    {
     "data": {
      "text/plain": [
       "DataTransformerRegistry.enable('vegafusion')"
      ]
     },
     "execution_count": 1,
     "metadata": {},
     "output_type": "execute_result"
    }
   ],
   "source": [
    "import pandas as pd\n",
    "import altair as alt\n",
    "alt.data_transformers.enable(\"vegafusion\")"
   ]
  },
  {
   "cell_type": "markdown",
   "metadata": {},
   "source": [
    "##### *Please provide your justification for your choice of dataset.*"
   ]
  },
  {
   "cell_type": "markdown",
   "metadata": {},
   "source": [
    "We'll go ahead with a dataset in `.parquet` format for the following reasons:\n",
    "- it is optimised for working with big data and offers better performance than JSON, so we can perform reading and writing operations faster\n",
    "- more storage efficient than JSON, since the latter is represented by plain text and lacks compression. \n",
    "- more widely adopted within Big Data frameworks, like Hadoop and Apache Spark. "
   ]
  },
  {
   "cell_type": "code",
   "execution_count": 2,
   "metadata": {},
   "outputs": [],
   "source": [
    "df = pd.read_parquet('../data/parquet')"
   ]
  },
  {
   "cell_type": "code",
   "execution_count": 3,
   "metadata": {},
   "outputs": [
    {
     "data": {
      "text/html": [
       "<div>\n",
       "<style scoped>\n",
       "    .dataframe tbody tr th:only-of-type {\n",
       "        vertical-align: middle;\n",
       "    }\n",
       "\n",
       "    .dataframe tbody tr th {\n",
       "        vertical-align: top;\n",
       "    }\n",
       "\n",
       "    .dataframe thead th {\n",
       "        text-align: right;\n",
       "    }\n",
       "</style>\n",
       "<table border=\"1\" class=\"dataframe\">\n",
       "  <thead>\n",
       "    <tr style=\"text-align: right;\">\n",
       "      <th></th>\n",
       "      <th>epochMillis</th>\n",
       "      <th>mmsi</th>\n",
       "      <th>position</th>\n",
       "      <th>navigation</th>\n",
       "      <th>olson_timezone</th>\n",
       "      <th>vesselDetails</th>\n",
       "      <th>port</th>\n",
       "      <th>imo</th>\n",
       "      <th>callSign</th>\n",
       "      <th>destination</th>\n",
       "      <th>cargoDetails</th>\n",
       "    </tr>\n",
       "  </thead>\n",
       "  <tbody>\n",
       "    <tr>\n",
       "      <th>0</th>\n",
       "      <td>1553580752000</td>\n",
       "      <td>414947474</td>\n",
       "      <td>{'latitude': 30.471167, 'longitude': 122.275536}</td>\n",
       "      <td>{'navCode': 16, 'navDesc': 'Unknown', 'courseO...</td>\n",
       "      <td>Asia/Shanghai</td>\n",
       "      <td>{'name': 'YI HANG JUN  136', 'typeName': 'Carg...</td>\n",
       "      <td>{'unlocode': 'CNSHG', 'name': 'SHANGHAI PT', '...</td>\n",
       "      <td>0.0</td>\n",
       "      <td>YYYY</td>\n",
       "      <td>LONGKOU.</td>\n",
       "      <td>None</td>\n",
       "    </tr>\n",
       "    <tr>\n",
       "      <th>1</th>\n",
       "      <td>1553580863000</td>\n",
       "      <td>413777558</td>\n",
       "      <td>{'latitude': 31.40998, 'longitude': 121.49894}</td>\n",
       "      <td>{'navCode': 16, 'navDesc': 'Unknown', 'courseO...</td>\n",
       "      <td>Asia/Shanghai</td>\n",
       "      <td>{'name': 'CHEN YANG 18', 'typeName': 'Cargo', ...</td>\n",
       "      <td>{'unlocode': 'CNSHG', 'name': 'SHANGHAI PT', '...</td>\n",
       "      <td>0.0</td>\n",
       "      <td>None</td>\n",
       "      <td>None</td>\n",
       "      <td>None</td>\n",
       "    </tr>\n",
       "    <tr>\n",
       "      <th>2</th>\n",
       "      <td>1553581142000</td>\n",
       "      <td>413791092</td>\n",
       "      <td>{'latitude': 31.377872, 'longitude': 121.56676}</td>\n",
       "      <td>{'navCode': 16, 'navDesc': 'Unknown', 'courseO...</td>\n",
       "      <td>Asia/Shanghai</td>\n",
       "      <td>{'name': 'XINAN020', 'typeName': 'Tanker', 'ty...</td>\n",
       "      <td>{'unlocode': 'CNSHG', 'name': 'SHANGHAI PT', '...</td>\n",
       "      <td>NaN</td>\n",
       "      <td>None</td>\n",
       "      <td>None</td>\n",
       "      <td>None</td>\n",
       "    </tr>\n",
       "    <tr>\n",
       "      <th>3</th>\n",
       "      <td>1553581236000</td>\n",
       "      <td>413207250</td>\n",
       "      <td>{'latitude': 31.249777, 'longitude': 121.77731}</td>\n",
       "      <td>{'navCode': 0, 'navDesc': 'Under Way Using Eng...</td>\n",
       "      <td>Asia/Shanghai</td>\n",
       "      <td>{'name': 'LONGSHENG17', 'typeName': 'Cargo', '...</td>\n",
       "      <td>{'unlocode': 'CNSHG', 'name': 'SHANGHAI PT', '...</td>\n",
       "      <td>0.0</td>\n",
       "      <td>None</td>\n",
       "      <td>SHANGHAI</td>\n",
       "      <td>None</td>\n",
       "    </tr>\n",
       "    <tr>\n",
       "      <th>4</th>\n",
       "      <td>1553581407000</td>\n",
       "      <td>414350410</td>\n",
       "      <td>{'latitude': 31.078783, 'longitude': 121.47187}</td>\n",
       "      <td>{'navCode': 5, 'navDesc': 'Moored', 'courseOve...</td>\n",
       "      <td>Asia/Shanghai</td>\n",
       "      <td>{'name': 'SHUNHANG 79', 'typeName': 'Cargo', '...</td>\n",
       "      <td>{'unlocode': 'CNSHG', 'name': 'SHANGHAI PT', '...</td>\n",
       "      <td>0.0</td>\n",
       "      <td>None</td>\n",
       "      <td>ZHOUSHAN SHA</td>\n",
       "      <td>None</td>\n",
       "    </tr>\n",
       "  </tbody>\n",
       "</table>\n",
       "</div>"
      ],
      "text/plain": [
       "     epochMillis       mmsi                                          position  \\\n",
       "0  1553580752000  414947474  {'latitude': 30.471167, 'longitude': 122.275536}   \n",
       "1  1553580863000  413777558    {'latitude': 31.40998, 'longitude': 121.49894}   \n",
       "2  1553581142000  413791092   {'latitude': 31.377872, 'longitude': 121.56676}   \n",
       "3  1553581236000  413207250   {'latitude': 31.249777, 'longitude': 121.77731}   \n",
       "4  1553581407000  414350410   {'latitude': 31.078783, 'longitude': 121.47187}   \n",
       "\n",
       "                                          navigation olson_timezone  \\\n",
       "0  {'navCode': 16, 'navDesc': 'Unknown', 'courseO...  Asia/Shanghai   \n",
       "1  {'navCode': 16, 'navDesc': 'Unknown', 'courseO...  Asia/Shanghai   \n",
       "2  {'navCode': 16, 'navDesc': 'Unknown', 'courseO...  Asia/Shanghai   \n",
       "3  {'navCode': 0, 'navDesc': 'Under Way Using Eng...  Asia/Shanghai   \n",
       "4  {'navCode': 5, 'navDesc': 'Moored', 'courseOve...  Asia/Shanghai   \n",
       "\n",
       "                                       vesselDetails  \\\n",
       "0  {'name': 'YI HANG JUN  136', 'typeName': 'Carg...   \n",
       "1  {'name': 'CHEN YANG 18', 'typeName': 'Cargo', ...   \n",
       "2  {'name': 'XINAN020', 'typeName': 'Tanker', 'ty...   \n",
       "3  {'name': 'LONGSHENG17', 'typeName': 'Cargo', '...   \n",
       "4  {'name': 'SHUNHANG 79', 'typeName': 'Cargo', '...   \n",
       "\n",
       "                                                port  imo callSign  \\\n",
       "0  {'unlocode': 'CNSHG', 'name': 'SHANGHAI PT', '...  0.0     YYYY   \n",
       "1  {'unlocode': 'CNSHG', 'name': 'SHANGHAI PT', '...  0.0     None   \n",
       "2  {'unlocode': 'CNSHG', 'name': 'SHANGHAI PT', '...  NaN     None   \n",
       "3  {'unlocode': 'CNSHG', 'name': 'SHANGHAI PT', '...  0.0     None   \n",
       "4  {'unlocode': 'CNSHG', 'name': 'SHANGHAI PT', '...  0.0     None   \n",
       "\n",
       "    destination cargoDetails  \n",
       "0      LONGKOU.         None  \n",
       "1          None         None  \n",
       "2          None         None  \n",
       "3      SHANGHAI         None  \n",
       "4  ZHOUSHAN SHA         None  "
      ]
     },
     "execution_count": 3,
     "metadata": {},
     "output_type": "execute_result"
    }
   ],
   "source": [
    "df.head()"
   ]
  },
  {
   "cell_type": "markdown",
   "metadata": {},
   "source": [
    "*What is(are) the main time period(s) in the data?*"
   ]
  },
  {
   "cell_type": "code",
   "execution_count": 4,
   "metadata": {},
   "outputs": [
    {
     "name": "stdout",
     "output_type": "stream",
     "text": [
      "Min date: 2019-03-22 23:36:38, Max date: 2020-03-27 23:54:04\n"
     ]
    }
   ],
   "source": [
    "timestamp = pd.to_datetime(df['epochMillis'], unit='ms')\n",
    "min_date, max_date = timestamp.min(), timestamp.max()\n",
    "print(f\"Min date: {min_date}, Max date: {max_date}\")"
   ]
  },
  {
   "cell_type": "markdown",
   "metadata": {},
   "source": [
    "As we see, the dataset seems to encompass a bit more than 1 year. We may also explore the daily tendencies in the data."
   ]
  },
  {
   "cell_type": "code",
   "execution_count": 5,
   "metadata": {},
   "outputs": [],
   "source": [
    "date = timestamp.dt.date\n",
    "daily = date.value_counts().sort_index().reset_index()\n",
    "daily.columns = ['date', 'count']"
   ]
  },
  {
   "cell_type": "code",
   "execution_count": 6,
   "metadata": {},
   "outputs": [
    {
     "data": {
      "text/html": [
       "\n",
       "<style>\n",
       "  #altair-viz-12f704ba63e94fd8ace0ad5b84ca29b2.vega-embed {\n",
       "    width: 100%;\n",
       "    display: flex;\n",
       "  }\n",
       "\n",
       "  #altair-viz-12f704ba63e94fd8ace0ad5b84ca29b2.vega-embed details,\n",
       "  #altair-viz-12f704ba63e94fd8ace0ad5b84ca29b2.vega-embed details summary {\n",
       "    position: relative;\n",
       "  }\n",
       "</style>\n",
       "<div id=\"altair-viz-12f704ba63e94fd8ace0ad5b84ca29b2\"></div>\n",
       "<script type=\"text/javascript\">\n",
       "  var VEGA_DEBUG = (typeof VEGA_DEBUG == \"undefined\") ? {} : VEGA_DEBUG;\n",
       "  (function(spec, embedOpt){\n",
       "    let outputDiv = document.currentScript.previousElementSibling;\n",
       "    if (outputDiv.id !== \"altair-viz-12f704ba63e94fd8ace0ad5b84ca29b2\") {\n",
       "      outputDiv = document.getElementById(\"altair-viz-12f704ba63e94fd8ace0ad5b84ca29b2\");\n",
       "    }\n",
       "    const paths = {\n",
       "      \"vega\": \"https://cdn.jsdelivr.net/npm/vega@5?noext\",\n",
       "      \"vega-lib\": \"https://cdn.jsdelivr.net/npm/vega-lib?noext\",\n",
       "      \"vega-lite\": \"https://cdn.jsdelivr.net/npm/vega-lite@5.17.0?noext\",\n",
       "      \"vega-embed\": \"https://cdn.jsdelivr.net/npm/vega-embed@6?noext\",\n",
       "    };\n",
       "\n",
       "    function maybeLoadScript(lib, version) {\n",
       "      var key = `${lib.replace(\"-\", \"\")}_version`;\n",
       "      return (VEGA_DEBUG[key] == version) ?\n",
       "        Promise.resolve(paths[lib]) :\n",
       "        new Promise(function(resolve, reject) {\n",
       "          var s = document.createElement('script');\n",
       "          document.getElementsByTagName(\"head\")[0].appendChild(s);\n",
       "          s.async = true;\n",
       "          s.onload = () => {\n",
       "            VEGA_DEBUG[key] = version;\n",
       "            return resolve(paths[lib]);\n",
       "          };\n",
       "          s.onerror = () => reject(`Error loading script: ${paths[lib]}`);\n",
       "          s.src = paths[lib];\n",
       "        });\n",
       "    }\n",
       "\n",
       "    function showError(err) {\n",
       "      outputDiv.innerHTML = `<div class=\"error\" style=\"color:red;\">${err}</div>`;\n",
       "      throw err;\n",
       "    }\n",
       "\n",
       "    function displayChart(vegaEmbed) {\n",
       "      vegaEmbed(outputDiv, spec, embedOpt)\n",
       "        .catch(err => showError(`Javascript Error: ${err.message}<br>This usually means there's a typo in your chart specification. See the javascript console for the full traceback.`));\n",
       "    }\n",
       "\n",
       "    if(typeof define === \"function\" && define.amd) {\n",
       "      requirejs.config({paths});\n",
       "      require([\"vega-embed\"], displayChart, err => showError(`Error loading script: ${err.message}`));\n",
       "    } else {\n",
       "      maybeLoadScript(\"vega\", \"5\")\n",
       "        .then(() => maybeLoadScript(\"vega-lite\", \"5.17.0\"))\n",
       "        .then(() => maybeLoadScript(\"vega-embed\", \"6\"))\n",
       "        .catch(showError)\n",
       "        .then(() => displayChart(vegaEmbed));\n",
       "    }\n",
       "  })({\"$schema\": \"https://vega.github.io/schema/vega/v5.json\", \"data\": [{\"name\": \"source_0\", \"values\": [{\"count\": 2823, \"count_end\": 2823.0, \"count_start\": 0.0, \"date\": \"2019-03-22T00:00:00.000\"}, {\"count\": 239924, \"count_end\": 239924.0, \"count_start\": 0.0, \"date\": \"2019-03-23T00:00:00.000\"}, {\"count\": 232839, \"count_end\": 232839.0, \"count_start\": 0.0, \"date\": \"2019-03-24T00:00:00.000\"}, {\"count\": 242063, \"count_end\": 242063.0, \"count_start\": 0.0, \"date\": \"2019-03-25T00:00:00.000\"}, {\"count\": 257274, \"count_end\": 257274.0, \"count_start\": 0.0, \"date\": \"2019-03-26T00:00:00.000\"}, {\"count\": 261975, \"count_end\": 261975.0, \"count_start\": 0.0, \"date\": \"2019-03-27T00:00:00.000\"}, {\"count\": 270642, \"count_end\": 270642.0, \"count_start\": 0.0, \"date\": \"2019-03-28T00:00:00.000\"}, {\"count\": 280289, \"count_end\": 280289.0, \"count_start\": 0.0, \"date\": \"2019-03-29T00:00:00.000\"}, {\"count\": 1170, \"count_end\": 1170.0, \"count_start\": 0.0, \"date\": \"2020-03-20T00:00:00.000\"}, {\"count\": 246471, \"count_end\": 246471.0, \"count_start\": 0.0, \"date\": \"2020-03-21T00:00:00.000\"}, {\"count\": 240595, \"count_end\": 240595.0, \"count_start\": 0.0, \"date\": \"2020-03-22T00:00:00.000\"}, {\"count\": 239284, \"count_end\": 239284.0, \"count_start\": 0.0, \"date\": \"2020-03-23T00:00:00.000\"}, {\"count\": 231847, \"count_end\": 231847.0, \"count_start\": 0.0, \"date\": \"2020-03-24T00:00:00.000\"}, {\"count\": 239535, \"count_end\": 239535.0, \"count_start\": 0.0, \"date\": \"2020-03-25T00:00:00.000\"}, {\"count\": 246332, \"count_end\": 246332.0, \"count_start\": 0.0, \"date\": \"2020-03-26T00:00:00.000\"}, {\"count\": 240814, \"count_end\": 240814.0, \"count_start\": 0.0, \"date\": \"2020-03-27T00:00:00.000\"}], \"transform\": [{\"type\": \"formula\", \"expr\": \"toDate(datum['date'])\", \"as\": \"date\"}]}], \"marks\": [{\"type\": \"rect\", \"name\": \"marks\", \"from\": {\"data\": \"source_0\"}, \"encode\": {\"update\": {\"fill\": {\"value\": \"#4c78a8\"}, \"tooltip\": {\"signal\": \"{\\\"date\\\": timeFormat(datum[\\\"date\\\"], '%b %d, %Y'), \\\"count\\\": format(datum[\\\"count\\\"], \\\"\\\")}\"}, \"y\": {\"field\": \"count_end\", \"scale\": \"y\"}, \"width\": {\"value\": 5}, \"xc\": {\"field\": \"date\", \"scale\": \"x\"}, \"y2\": {\"field\": \"count_start\", \"scale\": \"y\"}}}, \"style\": [\"bar\"]}], \"scales\": [{\"name\": \"x\", \"type\": \"time\", \"domain\": {\"data\": \"source_0\", \"field\": \"date\"}, \"range\": [0, {\"signal\": \"width\"}], \"padding\": 5}, {\"name\": \"y\", \"type\": \"linear\", \"domain\": {\"data\": \"source_0\", \"fields\": [\"count_start\", \"count_end\"]}, \"range\": [{\"signal\": \"height\"}, 0], \"zero\": true, \"nice\": true}], \"axes\": [{\"scale\": \"x\", \"gridScale\": \"y\", \"aria\": false, \"maxExtent\": 0, \"orient\": \"bottom\", \"minExtent\": 0, \"ticks\": false, \"grid\": true, \"domain\": false, \"labels\": false, \"tickCount\": {\"signal\": \"ceil(width/40)\"}, \"zindex\": 0}, {\"scale\": \"y\", \"orient\": \"left\", \"zindex\": 0, \"gridScale\": \"x\", \"ticks\": false, \"tickCount\": {\"signal\": \"ceil(height/40)\"}, \"grid\": true, \"labels\": false, \"domain\": false, \"aria\": false, \"maxExtent\": 0, \"minExtent\": 0}, {\"scale\": \"x\", \"zindex\": 0, \"orient\": \"bottom\", \"labelOverlap\": true, \"labelFlush\": true, \"grid\": false, \"title\": \"Date\", \"tickCount\": {\"signal\": \"ceil(width/40)\"}}, {\"scale\": \"y\", \"grid\": false, \"labelOverlap\": true, \"tickCount\": {\"signal\": \"ceil(height/40)\"}, \"zindex\": 0, \"orient\": \"left\", \"title\": \"Number of Records\"}], \"title\": {\"text\": \"Data Density Over Time\", \"frame\": \"group\"}, \"height\": 400, \"style\": \"cell\", \"padding\": 5, \"background\": \"white\", \"width\": 800}, {\"mode\": \"vega\"});\n",
       "</script>"
      ],
      "text/plain": [
       "alt.Chart(...)"
      ]
     },
     "execution_count": 6,
     "metadata": {},
     "output_type": "execute_result"
    }
   ],
   "source": [
    "chart = alt.Chart(daily).mark_bar().encode(\n",
    "    x=alt.X('date:T', title='Date'),\n",
    "    y=alt.Y('count:Q', title='Number of Records'),\n",
    "    tooltip=['date:T', 'count:Q']\n",
    ").properties(\n",
    "    title='Data Density Over Time',\n",
    "    width=800,\n",
    "    height=400\n",
    ")\n",
    "\n",
    "chart"
   ]
  },
  {
   "cell_type": "markdown",
   "metadata": {},
   "source": [
    "Although the min-max time range of our dataset could have implied that the data is distributed over more than a year, this is not the case, as we can observe from the above visualisation. "
   ]
  },
  {
   "cell_type": "markdown",
   "metadata": {},
   "source": [
    "*Which are the top three most sparse variables?*"
   ]
  },
  {
   "cell_type": "code",
   "execution_count": 7,
   "metadata": {},
   "outputs": [
    {
     "name": "stdout",
     "output_type": "stream",
     "text": [
      "cargoDetails: 90.41%\n",
      "imo: 42.34%\n",
      "destination: 32.72%\n"
     ]
    }
   ],
   "source": [
    "missing_vals = df.isnull().mean() * 100\n",
    "missing_vals_sort = missing_vals.sort_values(ascending=False)\n",
    "top_sparse = missing_vals_sort.head(3)\n",
    "\n",
    "for col in top_sparse.index:\n",
    "    print(f\"{col}: {missing_vals_sort[col]:.2f}%\")"
   ]
  },
  {
   "cell_type": "code",
   "execution_count": 8,
   "metadata": {},
   "outputs": [],
   "source": [
    "missing_vals_sort = missing_vals_sort.reset_index()\n",
    "missing_vals_sort.columns = ['variable', 'missing_percentage']"
   ]
  },
  {
   "cell_type": "code",
   "execution_count": 9,
   "metadata": {},
   "outputs": [
    {
     "data": {
      "text/html": [
       "\n",
       "<style>\n",
       "  #altair-viz-d7699e0c33c740a5b6f57079a61d7e84.vega-embed {\n",
       "    width: 100%;\n",
       "    display: flex;\n",
       "  }\n",
       "\n",
       "  #altair-viz-d7699e0c33c740a5b6f57079a61d7e84.vega-embed details,\n",
       "  #altair-viz-d7699e0c33c740a5b6f57079a61d7e84.vega-embed details summary {\n",
       "    position: relative;\n",
       "  }\n",
       "</style>\n",
       "<div id=\"altair-viz-d7699e0c33c740a5b6f57079a61d7e84\"></div>\n",
       "<script type=\"text/javascript\">\n",
       "  var VEGA_DEBUG = (typeof VEGA_DEBUG == \"undefined\") ? {} : VEGA_DEBUG;\n",
       "  (function(spec, embedOpt){\n",
       "    let outputDiv = document.currentScript.previousElementSibling;\n",
       "    if (outputDiv.id !== \"altair-viz-d7699e0c33c740a5b6f57079a61d7e84\") {\n",
       "      outputDiv = document.getElementById(\"altair-viz-d7699e0c33c740a5b6f57079a61d7e84\");\n",
       "    }\n",
       "    const paths = {\n",
       "      \"vega\": \"https://cdn.jsdelivr.net/npm/vega@5?noext\",\n",
       "      \"vega-lib\": \"https://cdn.jsdelivr.net/npm/vega-lib?noext\",\n",
       "      \"vega-lite\": \"https://cdn.jsdelivr.net/npm/vega-lite@5.17.0?noext\",\n",
       "      \"vega-embed\": \"https://cdn.jsdelivr.net/npm/vega-embed@6?noext\",\n",
       "    };\n",
       "\n",
       "    function maybeLoadScript(lib, version) {\n",
       "      var key = `${lib.replace(\"-\", \"\")}_version`;\n",
       "      return (VEGA_DEBUG[key] == version) ?\n",
       "        Promise.resolve(paths[lib]) :\n",
       "        new Promise(function(resolve, reject) {\n",
       "          var s = document.createElement('script');\n",
       "          document.getElementsByTagName(\"head\")[0].appendChild(s);\n",
       "          s.async = true;\n",
       "          s.onload = () => {\n",
       "            VEGA_DEBUG[key] = version;\n",
       "            return resolve(paths[lib]);\n",
       "          };\n",
       "          s.onerror = () => reject(`Error loading script: ${paths[lib]}`);\n",
       "          s.src = paths[lib];\n",
       "        });\n",
       "    }\n",
       "\n",
       "    function showError(err) {\n",
       "      outputDiv.innerHTML = `<div class=\"error\" style=\"color:red;\">${err}</div>`;\n",
       "      throw err;\n",
       "    }\n",
       "\n",
       "    function displayChart(vegaEmbed) {\n",
       "      vegaEmbed(outputDiv, spec, embedOpt)\n",
       "        .catch(err => showError(`Javascript Error: ${err.message}<br>This usually means there's a typo in your chart specification. See the javascript console for the full traceback.`));\n",
       "    }\n",
       "\n",
       "    if(typeof define === \"function\" && define.amd) {\n",
       "      requirejs.config({paths});\n",
       "      require([\"vega-embed\"], displayChart, err => showError(`Error loading script: ${err.message}`));\n",
       "    } else {\n",
       "      maybeLoadScript(\"vega\", \"5\")\n",
       "        .then(() => maybeLoadScript(\"vega-lite\", \"5.17.0\"))\n",
       "        .then(() => maybeLoadScript(\"vega-embed\", \"6\"))\n",
       "        .catch(showError)\n",
       "        .then(() => displayChart(vegaEmbed));\n",
       "    }\n",
       "  })({\"$schema\": \"https://vega.github.io/schema/vega/v5.json\", \"data\": [{\"name\": \"source_0\", \"values\": [{\"missing_percentage\": 90.40633850881882, \"missing_percentage_end\": 90.40633850881882, \"missing_percentage_start\": 0.0, \"variable\": \"cargoDetails\"}, {\"missing_percentage\": 42.34289239371457, \"missing_percentage_end\": 42.34289239371457, \"missing_percentage_start\": 0.0, \"variable\": \"imo\"}, {\"missing_percentage\": 32.717882642361836, \"missing_percentage_end\": 32.717882642361836, \"missing_percentage_start\": 0.0, \"variable\": \"destination\"}, {\"missing_percentage\": 29.086809924473435, \"missing_percentage_end\": 29.086809924473435, \"missing_percentage_start\": 0.0, \"variable\": \"callSign\"}, {\"missing_percentage\": 0.0, \"missing_percentage_end\": 0.0, \"missing_percentage_start\": 0.0, \"variable\": \"epochMillis\"}, {\"missing_percentage\": 0.0, \"missing_percentage_end\": 0.0, \"missing_percentage_start\": 0.0, \"variable\": \"mmsi\"}, {\"missing_percentage\": 0.0, \"missing_percentage_end\": 0.0, \"missing_percentage_start\": 0.0, \"variable\": \"position\"}, {\"missing_percentage\": 0.0, \"missing_percentage_end\": 0.0, \"missing_percentage_start\": 0.0, \"variable\": \"navigation\"}, {\"missing_percentage\": 0.0, \"missing_percentage_end\": 0.0, \"missing_percentage_start\": 0.0, \"variable\": \"olson_timezone\"}, {\"missing_percentage\": 0.0, \"missing_percentage_end\": 0.0, \"missing_percentage_start\": 0.0, \"variable\": \"vesselDetails\"}, {\"missing_percentage\": 0.0, \"missing_percentage_end\": 0.0, \"missing_percentage_start\": 0.0, \"variable\": \"port\"}]}, {\"name\": \"source_0_x_domain_variable\", \"values\": [{\"variable\": \"cargoDetails\"}, {\"variable\": \"imo\"}, {\"variable\": \"destination\"}, {\"variable\": \"callSign\"}, {\"variable\": \"epochMillis\"}, {\"variable\": \"mmsi\"}, {\"variable\": \"position\"}, {\"variable\": \"navigation\"}, {\"variable\": \"olson_timezone\"}, {\"variable\": \"vesselDetails\"}, {\"variable\": \"port\"}]}], \"marks\": [{\"type\": \"rect\", \"name\": \"marks\", \"from\": {\"data\": \"source_0\"}, \"encode\": {\"update\": {\"y\": {\"field\": \"missing_percentage_end\", \"scale\": \"y\"}, \"tooltip\": {\"signal\": \"{\\\"variable\\\": isValid(datum[\\\"variable\\\"]) ? datum[\\\"variable\\\"] : \\\"\\\"+datum[\\\"variable\\\"], \\\"missing_percentage\\\": format(datum[\\\"missing_percentage\\\"], \\\"\\\")}\"}, \"y2\": {\"field\": \"missing_percentage_start\", \"scale\": \"y\"}, \"x\": {\"field\": \"variable\", \"scale\": \"x\"}, \"width\": {\"signal\": \"max(0.25, bandwidth('x'))\"}, \"fill\": {\"value\": \"#4c78a8\"}}}, \"style\": [\"bar\"]}], \"scales\": [{\"name\": \"x\", \"type\": \"band\", \"domain\": {\"data\": \"source_0_x_domain_variable\", \"field\": \"variable\"}, \"range\": [0, {\"signal\": \"width\"}], \"paddingInner\": 0.1, \"paddingOuter\": 0.05}, {\"name\": \"y\", \"type\": \"linear\", \"domain\": {\"data\": \"source_0\", \"fields\": [\"missing_percentage_start\", \"missing_percentage_end\"]}, \"range\": [{\"signal\": \"height\"}, 0], \"zero\": true, \"nice\": true}], \"axes\": [{\"scale\": \"y\", \"orient\": \"left\", \"gridScale\": \"x\", \"tickCount\": {\"signal\": \"ceil(height/40)\"}, \"maxExtent\": 0, \"domain\": false, \"grid\": true, \"ticks\": false, \"minExtent\": 0, \"aria\": false, \"zindex\": 0, \"labels\": false}, {\"scale\": \"x\", \"labelAngle\": 270, \"orient\": \"bottom\", \"labelBaseline\": \"middle\", \"labelAlign\": \"right\", \"zindex\": 0, \"grid\": false, \"title\": \"Variable\"}, {\"scale\": \"y\", \"zindex\": 0, \"orient\": \"left\", \"grid\": false, \"tickCount\": {\"signal\": \"ceil(height/40)\"}, \"labelOverlap\": true, \"title\": \"Missing Percentage\"}], \"title\": {\"text\": \"Feature Sparsity\", \"frame\": \"group\"}, \"style\": \"cell\", \"padding\": 5, \"background\": \"white\", \"width\": 600, \"height\": 300}, {\"mode\": \"vega\"});\n",
       "</script>"
      ],
      "text/plain": [
       "alt.Chart(...)"
      ]
     },
     "execution_count": 9,
     "metadata": {},
     "output_type": "execute_result"
    }
   ],
   "source": [
    "chart = alt.Chart(missing_vals_sort).mark_bar().encode(\n",
    "    x=alt.X('variable', sort=None, title='Variable'),\n",
    "    y=alt.Y('missing_percentage', title='Missing Percentage'),\n",
    "    tooltip=['variable', 'missing_percentage']\n",
    ").properties(\n",
    "    title='Feature Sparsity',\n",
    "    width=600,\n",
    "    height=300\n",
    ")\n",
    "\n",
    "chart"
   ]
  },
  {
   "cell_type": "markdown",
   "metadata": {},
   "source": [
    "In other words, there are 4 features with missing data: `cargoDetails`, `imo`, `destination` & `callSign`. Among these, the most sparse one is `cargoDetails` which contains only 10% of the records. Another sparse variables in top-3 are `imo` and `destination` (miss about 42 and 32% of the data correspondingly)."
   ]
  },
  {
   "cell_type": "markdown",
   "metadata": {},
   "source": [
    "##### *What region(s) of the world and ocean port(s) does this data represent? Provide evidence to justify your answer.*"
   ]
  },
  {
   "cell_type": "markdown",
   "metadata": {},
   "source": [
    "Perhaps the most straightforward thing here would be to check how many different timezones are present in the dataset."
   ]
  },
  {
   "cell_type": "code",
   "execution_count": 10,
   "metadata": {},
   "outputs": [
    {
     "data": {
      "text/plain": [
       "array(['Asia/Shanghai'], dtype=object)"
      ]
     },
     "execution_count": 10,
     "metadata": {},
     "output_type": "execute_result"
    }
   ],
   "source": [
    "df['olson_timezone'].unique()"
   ]
  },
  {
   "cell_type": "markdown",
   "metadata": {},
   "source": [
    "Only one unique entry is present which is Asia/Shanghai meaning that all the vessels from the dataset were shipped from ports located in this timezone. We might verify it by exploring a `port` column"
   ]
  },
  {
   "cell_type": "code",
   "execution_count": 11,
   "metadata": {},
   "outputs": [
    {
     "data": {
      "text/plain": [
       "unlocode  name       \n",
       "CNSHG     SHANGHAI PT    3473877\n",
       "Name: count, dtype: int64"
      ]
     },
     "execution_count": 11,
     "metadata": {},
     "output_type": "execute_result"
    }
   ],
   "source": [
    "ports = pd.DataFrame(df.port.tolist())\n",
    "ports[['unlocode', 'name']].value_counts()"
   ]
  },
  {
   "cell_type": "markdown",
   "metadata": {},
   "source": [
    "Indeed, we can see that all the vessels from the dataset were shipped from a single Chinese port: `SHANGHAI PT`. We may also observe the countries vessels are coming from by extracting `flagCountry` property from vessel details column."
   ]
  },
  {
   "cell_type": "code",
   "execution_count": 12,
   "metadata": {},
   "outputs": [],
   "source": [
    "vessel_details = pd.DataFrame(df.vesselDetails.tolist())\n",
    "flag_counts = pd.DataFrame(vessel_details.flagCountry.value_counts()).reset_index()"
   ]
  },
  {
   "cell_type": "code",
   "execution_count": 13,
   "metadata": {},
   "outputs": [
    {
     "name": "stdout",
     "output_type": "stream",
     "text": [
      "Unique country flags: 111\n"
     ]
    },
    {
     "data": {
      "text/html": [
       "<div>\n",
       "<style scoped>\n",
       "    .dataframe tbody tr th:only-of-type {\n",
       "        vertical-align: middle;\n",
       "    }\n",
       "\n",
       "    .dataframe tbody tr th {\n",
       "        vertical-align: top;\n",
       "    }\n",
       "\n",
       "    .dataframe thead th {\n",
       "        text-align: right;\n",
       "    }\n",
       "</style>\n",
       "<table border=\"1\" class=\"dataframe\">\n",
       "  <thead>\n",
       "    <tr style=\"text-align: right;\">\n",
       "      <th></th>\n",
       "      <th>flagCountry</th>\n",
       "      <th>count</th>\n",
       "    </tr>\n",
       "  </thead>\n",
       "  <tbody>\n",
       "    <tr>\n",
       "      <th>0</th>\n",
       "      <td>China</td>\n",
       "      <td>3021932</td>\n",
       "    </tr>\n",
       "    <tr>\n",
       "      <th>1</th>\n",
       "      <td>Panama</td>\n",
       "      <td>91455</td>\n",
       "    </tr>\n",
       "    <tr>\n",
       "      <th>2</th>\n",
       "      <td>Hong Kong</td>\n",
       "      <td>86471</td>\n",
       "    </tr>\n",
       "    <tr>\n",
       "      <th>3</th>\n",
       "      <td>Liberia</td>\n",
       "      <td>52604</td>\n",
       "    </tr>\n",
       "    <tr>\n",
       "      <th>4</th>\n",
       "      <td>Marshall Islands</td>\n",
       "      <td>42723</td>\n",
       "    </tr>\n",
       "    <tr>\n",
       "      <th>5</th>\n",
       "      <td>Singapore</td>\n",
       "      <td>26636</td>\n",
       "    </tr>\n",
       "    <tr>\n",
       "      <th>6</th>\n",
       "      <td>Malta</td>\n",
       "      <td>19324</td>\n",
       "    </tr>\n",
       "    <tr>\n",
       "      <th>7</th>\n",
       "      <td>South Korea</td>\n",
       "      <td>18598</td>\n",
       "    </tr>\n",
       "    <tr>\n",
       "      <th>8</th>\n",
       "      <td>Madeira</td>\n",
       "      <td>8780</td>\n",
       "    </tr>\n",
       "    <tr>\n",
       "      <th>9</th>\n",
       "      <td>Belize</td>\n",
       "      <td>7833</td>\n",
       "    </tr>\n",
       "  </tbody>\n",
       "</table>\n",
       "</div>"
      ],
      "text/plain": [
       "        flagCountry    count\n",
       "0             China  3021932\n",
       "1            Panama    91455\n",
       "2         Hong Kong    86471\n",
       "3           Liberia    52604\n",
       "4  Marshall Islands    42723\n",
       "5         Singapore    26636\n",
       "6             Malta    19324\n",
       "7       South Korea    18598\n",
       "8           Madeira     8780\n",
       "9            Belize     7833"
      ]
     },
     "execution_count": 13,
     "metadata": {},
     "output_type": "execute_result"
    }
   ],
   "source": [
    "print(f\"Unique country flags: {flag_counts.shape[0]}\")\n",
    "flag_counts.head(10)"
   ]
  },
  {
   "cell_type": "markdown",
   "metadata": {},
   "source": [
    "Thus, vessels come from 111 different regions. However, this number does not represent distinct countries but may include regious within a country, since we can note that there are items like `Madeira` (an autonomous region in Portugal)."
   ]
  },
  {
   "cell_type": "markdown",
   "metadata": {},
   "source": [
    "##### *Provide a frequency tabulation of the various Navigation Codes & Descriptions (i.e., navCode & NavDesc). Optionally, provide any additional statistics you find interesting.*"
   ]
  },
  {
   "cell_type": "code",
   "execution_count": 14,
   "metadata": {},
   "outputs": [],
   "source": [
    "nav_details = pd.DataFrame(df.navigation.tolist())\n",
    "code_desc_freq = nav_details.groupby(['navCode', 'navDesc']).size().reset_index(name='count')\n",
    "code_desc_freq = code_desc_freq.sort_values(by='count', ascending=False)"
   ]
  },
  {
   "cell_type": "code",
   "execution_count": 15,
   "metadata": {},
   "outputs": [
    {
     "data": {
      "text/html": [
       "<div>\n",
       "<style scoped>\n",
       "    .dataframe tbody tr th:only-of-type {\n",
       "        vertical-align: middle;\n",
       "    }\n",
       "\n",
       "    .dataframe tbody tr th {\n",
       "        vertical-align: top;\n",
       "    }\n",
       "\n",
       "    .dataframe thead th {\n",
       "        text-align: right;\n",
       "    }\n",
       "</style>\n",
       "<table border=\"1\" class=\"dataframe\">\n",
       "  <thead>\n",
       "    <tr style=\"text-align: right;\">\n",
       "      <th></th>\n",
       "      <th>navCode</th>\n",
       "      <th>navDesc</th>\n",
       "      <th>count</th>\n",
       "    </tr>\n",
       "  </thead>\n",
       "  <tbody>\n",
       "    <tr>\n",
       "      <th>14</th>\n",
       "      <td>16</td>\n",
       "      <td>Unknown</td>\n",
       "      <td>1357985</td>\n",
       "    </tr>\n",
       "    <tr>\n",
       "      <th>0</th>\n",
       "      <td>0</td>\n",
       "      <td>Under Way Using Engine</td>\n",
       "      <td>1063676</td>\n",
       "    </tr>\n",
       "    <tr>\n",
       "      <th>5</th>\n",
       "      <td>5</td>\n",
       "      <td>Moored</td>\n",
       "      <td>554133</td>\n",
       "    </tr>\n",
       "    <tr>\n",
       "      <th>1</th>\n",
       "      <td>1</td>\n",
       "      <td>At Anchor</td>\n",
       "      <td>426433</td>\n",
       "    </tr>\n",
       "    <tr>\n",
       "      <th>13</th>\n",
       "      <td>15</td>\n",
       "      <td>Not Defined</td>\n",
       "      <td>29330</td>\n",
       "    </tr>\n",
       "    <tr>\n",
       "      <th>8</th>\n",
       "      <td>8</td>\n",
       "      <td>Underway Sailing</td>\n",
       "      <td>24889</td>\n",
       "    </tr>\n",
       "    <tr>\n",
       "      <th>3</th>\n",
       "      <td>3</td>\n",
       "      <td>Restricted Manoeuvrability</td>\n",
       "      <td>8237</td>\n",
       "    </tr>\n",
       "    <tr>\n",
       "      <th>2</th>\n",
       "      <td>2</td>\n",
       "      <td>Not Under Command</td>\n",
       "      <td>3471</td>\n",
       "    </tr>\n",
       "    <tr>\n",
       "      <th>4</th>\n",
       "      <td>4</td>\n",
       "      <td>Constrained By Her Draught</td>\n",
       "      <td>1483</td>\n",
       "    </tr>\n",
       "    <tr>\n",
       "      <th>9</th>\n",
       "      <td>9</td>\n",
       "      <td>Reserved For Future Amendment</td>\n",
       "      <td>1359</td>\n",
       "    </tr>\n",
       "    <tr>\n",
       "      <th>10</th>\n",
       "      <td>11</td>\n",
       "      <td>Reserved For Future Use</td>\n",
       "      <td>1277</td>\n",
       "    </tr>\n",
       "    <tr>\n",
       "      <th>12</th>\n",
       "      <td>13</td>\n",
       "      <td>Reserved For Future Use</td>\n",
       "      <td>875</td>\n",
       "    </tr>\n",
       "    <tr>\n",
       "      <th>6</th>\n",
       "      <td>6</td>\n",
       "      <td>Aground</td>\n",
       "      <td>401</td>\n",
       "    </tr>\n",
       "    <tr>\n",
       "      <th>7</th>\n",
       "      <td>7</td>\n",
       "      <td>Engaged In Fishing</td>\n",
       "      <td>321</td>\n",
       "    </tr>\n",
       "    <tr>\n",
       "      <th>11</th>\n",
       "      <td>12</td>\n",
       "      <td>Reserved For Future Use</td>\n",
       "      <td>7</td>\n",
       "    </tr>\n",
       "  </tbody>\n",
       "</table>\n",
       "</div>"
      ],
      "text/plain": [
       "    navCode                        navDesc    count\n",
       "14       16                        Unknown  1357985\n",
       "0         0         Under Way Using Engine  1063676\n",
       "5         5                         Moored   554133\n",
       "1         1                      At Anchor   426433\n",
       "13       15                    Not Defined    29330\n",
       "8         8               Underway Sailing    24889\n",
       "3         3     Restricted Manoeuvrability     8237\n",
       "2         2              Not Under Command     3471\n",
       "4         4     Constrained By Her Draught     1483\n",
       "9         9  Reserved For Future Amendment     1359\n",
       "10       11        Reserved For Future Use     1277\n",
       "12       13        Reserved For Future Use      875\n",
       "6         6                        Aground      401\n",
       "7         7             Engaged In Fishing      321\n",
       "11       12        Reserved For Future Use        7"
      ]
     },
     "execution_count": 15,
     "metadata": {},
     "output_type": "execute_result"
    }
   ],
   "source": [
    "code_desc_freq"
   ]
  },
  {
   "cell_type": "markdown",
   "metadata": {},
   "source": [
    "The most frequent combination of `navCode` and `navDesc` properties is \"16 + Unknown\". Apart from \"Unknown\", there's also \"Not defined\" description category that only corresponds to `navCode` of 15. "
   ]
  },
  {
   "cell_type": "markdown",
   "metadata": {},
   "source": [
    "Apart from that, we can calculate frequency tabulation taking into account of `navDesc` and `flagCountry` categories."
   ]
  },
  {
   "cell_type": "code",
   "execution_count": 16,
   "metadata": {},
   "outputs": [
    {
     "data": {
      "text/html": [
       "<div>\n",
       "<style scoped>\n",
       "    .dataframe tbody tr th:only-of-type {\n",
       "        vertical-align: middle;\n",
       "    }\n",
       "\n",
       "    .dataframe tbody tr th {\n",
       "        vertical-align: top;\n",
       "    }\n",
       "\n",
       "    .dataframe thead th {\n",
       "        text-align: right;\n",
       "    }\n",
       "</style>\n",
       "<table border=\"1\" class=\"dataframe\">\n",
       "  <thead>\n",
       "    <tr style=\"text-align: right;\">\n",
       "      <th></th>\n",
       "      <th>flagCountry</th>\n",
       "      <th>navDesc</th>\n",
       "      <th>count</th>\n",
       "    </tr>\n",
       "  </thead>\n",
       "  <tbody>\n",
       "    <tr>\n",
       "      <th>65</th>\n",
       "      <td>China</td>\n",
       "      <td>Unknown</td>\n",
       "      <td>1349134</td>\n",
       "    </tr>\n",
       "    <tr>\n",
       "      <th>63</th>\n",
       "      <td>China</td>\n",
       "      <td>Under Way Using Engine</td>\n",
       "      <td>914385</td>\n",
       "    </tr>\n",
       "    <tr>\n",
       "      <th>57</th>\n",
       "      <td>China</td>\n",
       "      <td>Moored</td>\n",
       "      <td>404391</td>\n",
       "    </tr>\n",
       "    <tr>\n",
       "      <th>54</th>\n",
       "      <td>China</td>\n",
       "      <td>At Anchor</td>\n",
       "      <td>294287</td>\n",
       "    </tr>\n",
       "    <tr>\n",
       "      <th>216</th>\n",
       "      <td>Panama</td>\n",
       "      <td>Under Way Using Engine</td>\n",
       "      <td>31540</td>\n",
       "    </tr>\n",
       "    <tr>\n",
       "      <th>212</th>\n",
       "      <td>Panama</td>\n",
       "      <td>Moored</td>\n",
       "      <td>30196</td>\n",
       "    </tr>\n",
       "    <tr>\n",
       "      <th>114</th>\n",
       "      <td>Hong Kong</td>\n",
       "      <td>At Anchor</td>\n",
       "      <td>29547</td>\n",
       "    </tr>\n",
       "    <tr>\n",
       "      <th>116</th>\n",
       "      <td>Hong Kong</td>\n",
       "      <td>Moored</td>\n",
       "      <td>28534</td>\n",
       "    </tr>\n",
       "    <tr>\n",
       "      <th>120</th>\n",
       "      <td>Hong Kong</td>\n",
       "      <td>Under Way Using Engine</td>\n",
       "      <td>27826</td>\n",
       "    </tr>\n",
       "    <tr>\n",
       "      <th>211</th>\n",
       "      <td>Panama</td>\n",
       "      <td>At Anchor</td>\n",
       "      <td>27707</td>\n",
       "    </tr>\n",
       "  </tbody>\n",
       "</table>\n",
       "</div>"
      ],
      "text/plain": [
       "    flagCountry                 navDesc    count\n",
       "65        China                 Unknown  1349134\n",
       "63        China  Under Way Using Engine   914385\n",
       "57        China                  Moored   404391\n",
       "54        China               At Anchor   294287\n",
       "216      Panama  Under Way Using Engine    31540\n",
       "212      Panama                  Moored    30196\n",
       "114   Hong Kong               At Anchor    29547\n",
       "116   Hong Kong                  Moored    28534\n",
       "120   Hong Kong  Under Way Using Engine    27826\n",
       "211      Panama               At Anchor    27707"
      ]
     },
     "execution_count": 16,
     "metadata": {},
     "output_type": "execute_result"
    }
   ],
   "source": [
    "flag_navDesc = pd.concat([vessel_details, nav_details], axis=1)\n",
    "flag_navDesc_freq = flag_navDesc.groupby(['flagCountry', 'navDesc']).size().reset_index(name='count')\n",
    "flag_navDesc_freq = flag_navDesc_freq.sort_values(by='count', ascending=False)\n",
    "flag_navDesc_freq.head(10)"
   ]
  },
  {
   "cell_type": "markdown",
   "metadata": {},
   "source": [
    "Of course, it's now also possible to lookup specific countries"
   ]
  },
  {
   "cell_type": "code",
   "execution_count": 17,
   "metadata": {},
   "outputs": [
    {
     "data": {
      "text/html": [
       "<div>\n",
       "<style scoped>\n",
       "    .dataframe tbody tr th:only-of-type {\n",
       "        vertical-align: middle;\n",
       "    }\n",
       "\n",
       "    .dataframe tbody tr th {\n",
       "        vertical-align: top;\n",
       "    }\n",
       "\n",
       "    .dataframe thead th {\n",
       "        text-align: right;\n",
       "    }\n",
       "</style>\n",
       "<table border=\"1\" class=\"dataframe\">\n",
       "  <thead>\n",
       "    <tr style=\"text-align: right;\">\n",
       "      <th></th>\n",
       "      <th>flagCountry</th>\n",
       "      <th>navDesc</th>\n",
       "      <th>count</th>\n",
       "    </tr>\n",
       "  </thead>\n",
       "  <tbody>\n",
       "    <tr>\n",
       "      <th>264</th>\n",
       "      <td>South Korea</td>\n",
       "      <td>Under Way Using Engine</td>\n",
       "      <td>10186</td>\n",
       "    </tr>\n",
       "    <tr>\n",
       "      <th>261</th>\n",
       "      <td>South Korea</td>\n",
       "      <td>At Anchor</td>\n",
       "      <td>5502</td>\n",
       "    </tr>\n",
       "    <tr>\n",
       "      <th>262</th>\n",
       "      <td>South Korea</td>\n",
       "      <td>Moored</td>\n",
       "      <td>2041</td>\n",
       "    </tr>\n",
       "    <tr>\n",
       "      <th>265</th>\n",
       "      <td>South Korea</td>\n",
       "      <td>Underway Sailing</td>\n",
       "      <td>556</td>\n",
       "    </tr>\n",
       "    <tr>\n",
       "      <th>266</th>\n",
       "      <td>South Korea</td>\n",
       "      <td>Unknown</td>\n",
       "      <td>285</td>\n",
       "    </tr>\n",
       "    <tr>\n",
       "      <th>263</th>\n",
       "      <td>South Korea</td>\n",
       "      <td>Not Under Command</td>\n",
       "      <td>28</td>\n",
       "    </tr>\n",
       "  </tbody>\n",
       "</table>\n",
       "</div>"
      ],
      "text/plain": [
       "     flagCountry                 navDesc  count\n",
       "264  South Korea  Under Way Using Engine  10186\n",
       "261  South Korea               At Anchor   5502\n",
       "262  South Korea                  Moored   2041\n",
       "265  South Korea        Underway Sailing    556\n",
       "266  South Korea                 Unknown    285\n",
       "263  South Korea       Not Under Command     28"
      ]
     },
     "execution_count": 17,
     "metadata": {},
     "output_type": "execute_result"
    }
   ],
   "source": [
    "flag_navDesc_freq[flag_navDesc_freq['flagCountry'] == 'South Korea']"
   ]
  },
  {
   "cell_type": "markdown",
   "metadata": {},
   "source": [
    "We may also observe a relationship between nav description category and vessel length."
   ]
  },
  {
   "cell_type": "code",
   "execution_count": 18,
   "metadata": {},
   "outputs": [],
   "source": [
    "length_navDesc = pd.concat([vessel_details['length'], nav_details['navDesc']], axis=1)\n",
    "mean_length_by_navDesc = mean_length_by_navDesc = length_navDesc.groupby('navDesc')['length'].mean().reset_index()\n",
    "mean_length_by_navDesc = mean_length_by_navDesc.sort_values(by='length', ascending=False)"
   ]
  },
  {
   "cell_type": "code",
   "execution_count": 19,
   "metadata": {},
   "outputs": [
    {
     "data": {
      "text/html": [
       "\n",
       "<style>\n",
       "  #altair-viz-61a090a226ce43078d9ad67c624482ad.vega-embed {\n",
       "    width: 100%;\n",
       "    display: flex;\n",
       "  }\n",
       "\n",
       "  #altair-viz-61a090a226ce43078d9ad67c624482ad.vega-embed details,\n",
       "  #altair-viz-61a090a226ce43078d9ad67c624482ad.vega-embed details summary {\n",
       "    position: relative;\n",
       "  }\n",
       "</style>\n",
       "<div id=\"altair-viz-61a090a226ce43078d9ad67c624482ad\"></div>\n",
       "<script type=\"text/javascript\">\n",
       "  var VEGA_DEBUG = (typeof VEGA_DEBUG == \"undefined\") ? {} : VEGA_DEBUG;\n",
       "  (function(spec, embedOpt){\n",
       "    let outputDiv = document.currentScript.previousElementSibling;\n",
       "    if (outputDiv.id !== \"altair-viz-61a090a226ce43078d9ad67c624482ad\") {\n",
       "      outputDiv = document.getElementById(\"altair-viz-61a090a226ce43078d9ad67c624482ad\");\n",
       "    }\n",
       "    const paths = {\n",
       "      \"vega\": \"https://cdn.jsdelivr.net/npm/vega@5?noext\",\n",
       "      \"vega-lib\": \"https://cdn.jsdelivr.net/npm/vega-lib?noext\",\n",
       "      \"vega-lite\": \"https://cdn.jsdelivr.net/npm/vega-lite@5.17.0?noext\",\n",
       "      \"vega-embed\": \"https://cdn.jsdelivr.net/npm/vega-embed@6?noext\",\n",
       "    };\n",
       "\n",
       "    function maybeLoadScript(lib, version) {\n",
       "      var key = `${lib.replace(\"-\", \"\")}_version`;\n",
       "      return (VEGA_DEBUG[key] == version) ?\n",
       "        Promise.resolve(paths[lib]) :\n",
       "        new Promise(function(resolve, reject) {\n",
       "          var s = document.createElement('script');\n",
       "          document.getElementsByTagName(\"head\")[0].appendChild(s);\n",
       "          s.async = true;\n",
       "          s.onload = () => {\n",
       "            VEGA_DEBUG[key] = version;\n",
       "            return resolve(paths[lib]);\n",
       "          };\n",
       "          s.onerror = () => reject(`Error loading script: ${paths[lib]}`);\n",
       "          s.src = paths[lib];\n",
       "        });\n",
       "    }\n",
       "\n",
       "    function showError(err) {\n",
       "      outputDiv.innerHTML = `<div class=\"error\" style=\"color:red;\">${err}</div>`;\n",
       "      throw err;\n",
       "    }\n",
       "\n",
       "    function displayChart(vegaEmbed) {\n",
       "      vegaEmbed(outputDiv, spec, embedOpt)\n",
       "        .catch(err => showError(`Javascript Error: ${err.message}<br>This usually means there's a typo in your chart specification. See the javascript console for the full traceback.`));\n",
       "    }\n",
       "\n",
       "    if(typeof define === \"function\" && define.amd) {\n",
       "      requirejs.config({paths});\n",
       "      require([\"vega-embed\"], displayChart, err => showError(`Error loading script: ${err.message}`));\n",
       "    } else {\n",
       "      maybeLoadScript(\"vega\", \"5\")\n",
       "        .then(() => maybeLoadScript(\"vega-lite\", \"5.17.0\"))\n",
       "        .then(() => maybeLoadScript(\"vega-embed\", \"6\"))\n",
       "        .catch(showError)\n",
       "        .then(() => displayChart(vegaEmbed));\n",
       "    }\n",
       "  })({\"$schema\": \"https://vega.github.io/schema/vega/v5.json\", \"data\": [{\"name\": \"source_0\", \"values\": [{\"length\": 163.9176029962547, \"length_end\": 163.9176029962547, \"length_start\": 0.0, \"navDesc\": \"Not Under Command\"}, {\"length\": 150.34321687111458, \"length_end\": 150.34321687111458, \"length_start\": 0.0, \"navDesc\": \"At Anchor\"}, {\"length\": 120.51029085075244, \"length_end\": 120.51029085075244, \"length_start\": 0.0, \"navDesc\": \"Moored\"}, {\"length\": 110.81206750030351, \"length_end\": 110.81206750030351, \"length_start\": 0.0, \"navDesc\": \"Restricted Manoeuvrability\"}, {\"length\": 104.45082229992018, \"length_end\": 104.45082229992018, \"length_start\": 0.0, \"navDesc\": \"Under Way Using Engine\"}, {\"length\": 99.65205664194201, \"length_end\": 99.65205664194201, \"length_start\": 0.0, \"navDesc\": \"Constrained By Her Draught\"}, {\"length\": 96.74812967581047, \"length_end\": 96.74812967581047, \"length_start\": 0.0, \"navDesc\": \"Aground\"}, {\"length\": 68.3250030133794, \"length_end\": 68.3250030133794, \"length_start\": 0.0, \"navDesc\": \"Underway Sailing\"}, {\"length\": 64.57528128196385, \"length_end\": 64.57528128196385, \"length_start\": 0.0, \"navDesc\": \"Not Defined\"}, {\"length\": 59.52832965415747, \"length_end\": 59.52832965415747, \"length_start\": 0.0, \"navDesc\": \"Reserved For Future Amendment\"}, {\"length\": 52.74857938460393, \"length_end\": 52.74857938460393, \"length_start\": 0.0, \"navDesc\": \"Unknown\"}, {\"length\": 41.41778601204261, \"length_end\": 41.41778601204261, \"length_start\": 0.0, \"navDesc\": \"Reserved For Future Use\"}, {\"length\": 40.33021806853583, \"length_end\": 40.33021806853583, \"length_start\": 0.0, \"navDesc\": \"Engaged In Fishing\"}]}, {\"name\": \"source_0_x_domain_navDesc\", \"values\": [{\"navDesc\": \"Not Under Command\"}, {\"navDesc\": \"At Anchor\"}, {\"navDesc\": \"Moored\"}, {\"navDesc\": \"Restricted Manoeuvrability\"}, {\"navDesc\": \"Under Way Using Engine\"}, {\"navDesc\": \"Constrained By Her Draught\"}, {\"navDesc\": \"Aground\"}, {\"navDesc\": \"Underway Sailing\"}, {\"navDesc\": \"Not Defined\"}, {\"navDesc\": \"Reserved For Future Amendment\"}, {\"navDesc\": \"Unknown\"}, {\"navDesc\": \"Reserved For Future Use\"}, {\"navDesc\": \"Engaged In Fishing\"}]}], \"marks\": [{\"type\": \"rect\", \"name\": \"marks\", \"from\": {\"data\": \"source_0\"}, \"encode\": {\"update\": {\"fill\": {\"value\": \"#4c78a8\"}, \"tooltip\": {\"signal\": \"{\\\"navDesc\\\": isValid(datum[\\\"navDesc\\\"]) ? datum[\\\"navDesc\\\"] : \\\"\\\"+datum[\\\"navDesc\\\"], \\\"length\\\": format(datum[\\\"length\\\"], \\\"\\\")}\"}, \"x\": {\"field\": \"navDesc\", \"scale\": \"x\"}, \"y\": {\"field\": \"length_end\", \"scale\": \"y\"}, \"width\": {\"signal\": \"max(0.25, bandwidth('x'))\"}, \"y2\": {\"field\": \"length_start\", \"scale\": \"y\"}}}, \"style\": [\"bar\"]}], \"scales\": [{\"name\": \"x\", \"type\": \"band\", \"domain\": {\"data\": \"source_0_x_domain_navDesc\", \"field\": \"navDesc\"}, \"range\": [0, {\"signal\": \"width\"}], \"paddingInner\": 0.1, \"paddingOuter\": 0.05}, {\"name\": \"y\", \"type\": \"linear\", \"domain\": {\"data\": \"source_0\", \"fields\": [\"length_start\", \"length_end\"]}, \"range\": [{\"signal\": \"height\"}, 0], \"nice\": true, \"zero\": true}], \"axes\": [{\"scale\": \"y\", \"gridScale\": \"x\", \"aria\": false, \"tickCount\": {\"signal\": \"ceil(height/40)\"}, \"maxExtent\": 0, \"ticks\": false, \"grid\": true, \"orient\": \"left\", \"domain\": false, \"zindex\": 0, \"labels\": false, \"minExtent\": 0}, {\"scale\": \"x\", \"orient\": \"bottom\", \"grid\": false, \"labelAngle\": 270, \"labelBaseline\": \"middle\", \"title\": \"Description Category\", \"labelAlign\": \"right\", \"zindex\": 0}, {\"scale\": \"y\", \"labelOverlap\": true, \"zindex\": 0, \"tickCount\": {\"signal\": \"ceil(height/40)\"}, \"grid\": false, \"title\": \"Vessel Length (m)\", \"orient\": \"left\"}], \"title\": {\"text\": \"Vessel Length by Navigation Description Category\", \"frame\": \"group\"}, \"width\": 1000, \"height\": 300, \"padding\": 5, \"style\": \"cell\", \"background\": \"white\"}, {\"mode\": \"vega\"});\n",
       "</script>"
      ],
      "text/plain": [
       "alt.Chart(...)"
      ]
     },
     "execution_count": 19,
     "metadata": {},
     "output_type": "execute_result"
    }
   ],
   "source": [
    "chart = alt.Chart(mean_length_by_navDesc).mark_bar().encode(\n",
    "    x=alt.X('navDesc', sort=None, title='Description Category'),\n",
    "    y=alt.Y('length', title='Vessel Length (m)'),\n",
    "    tooltip=['navDesc', 'length']\n",
    ").properties(\n",
    "    title='Vessel Length by Navigation Description Category',\n",
    "    width=1000,\n",
    "    height=300\n",
    ")\n",
    "\n",
    "chart"
   ]
  },
  {
   "cell_type": "markdown",
   "metadata": {},
   "source": [
    "##### *MMSI = 205792000*"
   ]
  },
  {
   "cell_type": "code",
   "execution_count": 35,
   "metadata": {},
   "outputs": [],
   "source": [
    "# Helper functions\n",
    "def prepare_df(df, nav_details, target_mmsi, top_navCodes):\n",
    "    filtered_df = pd.concat([df, nav_details[['navCode', 'navDesc']]], axis=1)\n",
    "    filtered_df = filtered_df[(filtered_df['mmsi'] == target_mmsi) & (filtered_df['navCode'].isin(top_navCodes))]\n",
    "    filtered_df['timestamp'] = pd.to_datetime(filtered_df['epochMillis'], unit='ms')\n",
    "    filtered_df = filtered_df.sort_values(by='timestamp')\n",
    "    filtered_df = filtered_df[['epochMillis', 'timestamp', 'mmsi', 'navCode', 'navDesc']]\n",
    "\n",
    "    return filtered_df\n",
    "\n",
    "\n",
    "def create_new_series(row):\n",
    "    return {\n",
    "        'mmsi': row['mmsi'],\n",
    "        'start_time': row['timestamp'],\n",
    "        'end_time': row['timestamp'],\n",
    "        'navCode': row['navCode'],\n",
    "        'navDesc': row['navDesc']\n",
    "    }\n",
    "\n",
    "def finalize_series(series, contiguous_series):\n",
    "    series['lead_time'] = int((series['end_time'] - series['start_time']).total_seconds() * 1000)\n",
    "    contiguous_series.append(series)\n",
    "\n",
    "def get_contiguous_series(df):\n",
    "    contiguous_series = []\n",
    "    series = None\n",
    "\n",
    "    for _, row in df.iterrows():\n",
    "        if series is None:\n",
    "            series = create_new_series(row)\n",
    "        elif series['navCode'] == row['navCode']:\n",
    "            series['end_time'] = row['timestamp'] # The data is sorted by timestamp so we can just update the end time\n",
    "        else:\n",
    "            finalize_series(series, contiguous_series)\n",
    "            series = create_new_series(row)\n",
    "\n",
    "    if series is not None:\n",
    "        finalize_series(series, contiguous_series)\n",
    "\n",
    "    return pd.DataFrame(contiguous_series)"
   ]
  },
  {
   "cell_type": "code",
   "execution_count": 36,
   "metadata": {},
   "outputs": [],
   "source": [
    "top_navCodes = code_desc_freq.head(5).navCode.tolist()\n",
    "target_mmsi = 205792000"
   ]
  },
  {
   "cell_type": "code",
   "execution_count": 38,
   "metadata": {},
   "outputs": [
    {
     "data": {
      "text/html": [
       "<div>\n",
       "<style scoped>\n",
       "    .dataframe tbody tr th:only-of-type {\n",
       "        vertical-align: middle;\n",
       "    }\n",
       "\n",
       "    .dataframe tbody tr th {\n",
       "        vertical-align: top;\n",
       "    }\n",
       "\n",
       "    .dataframe thead th {\n",
       "        text-align: right;\n",
       "    }\n",
       "</style>\n",
       "<table border=\"1\" class=\"dataframe\">\n",
       "  <thead>\n",
       "    <tr style=\"text-align: right;\">\n",
       "      <th></th>\n",
       "      <th>epochMillis</th>\n",
       "      <th>timestamp</th>\n",
       "      <th>mmsi</th>\n",
       "      <th>navCode</th>\n",
       "      <th>navDesc</th>\n",
       "    </tr>\n",
       "  </thead>\n",
       "  <tbody>\n",
       "    <tr>\n",
       "      <th>1569624</th>\n",
       "      <td>1585110225000</td>\n",
       "      <td>2020-03-25 04:23:45</td>\n",
       "      <td>205792000</td>\n",
       "      <td>0</td>\n",
       "      <td>Under Way Using Engine</td>\n",
       "    </tr>\n",
       "    <tr>\n",
       "      <th>1291702</th>\n",
       "      <td>1585127584000</td>\n",
       "      <td>2020-03-25 09:13:04</td>\n",
       "      <td>205792000</td>\n",
       "      <td>0</td>\n",
       "      <td>Under Way Using Engine</td>\n",
       "    </tr>\n",
       "    <tr>\n",
       "      <th>501694</th>\n",
       "      <td>1585123529000</td>\n",
       "      <td>2020-03-25 08:05:29</td>\n",
       "      <td>205792000</td>\n",
       "      <td>0</td>\n",
       "      <td>Under Way Using Engine</td>\n",
       "    </tr>\n",
       "    <tr>\n",
       "      <th>81723</th>\n",
       "      <td>1585032981000</td>\n",
       "      <td>2020-03-24 06:56:21</td>\n",
       "      <td>205792000</td>\n",
       "      <td>5</td>\n",
       "      <td>Moored</td>\n",
       "    </tr>\n",
       "    <tr>\n",
       "      <th>1557890</th>\n",
       "      <td>1585124755000</td>\n",
       "      <td>2020-03-25 08:25:55</td>\n",
       "      <td>205792000</td>\n",
       "      <td>0</td>\n",
       "      <td>Under Way Using Engine</td>\n",
       "    </tr>\n",
       "  </tbody>\n",
       "</table>\n",
       "</div>"
      ],
      "text/plain": [
       "           epochMillis           timestamp       mmsi  navCode  \\\n",
       "1569624  1585110225000 2020-03-25 04:23:45  205792000        0   \n",
       "1291702  1585127584000 2020-03-25 09:13:04  205792000        0   \n",
       "501694   1585123529000 2020-03-25 08:05:29  205792000        0   \n",
       "81723    1585032981000 2020-03-24 06:56:21  205792000        5   \n",
       "1557890  1585124755000 2020-03-25 08:25:55  205792000        0   \n",
       "\n",
       "                        navDesc  \n",
       "1569624  Under Way Using Engine  \n",
       "1291702  Under Way Using Engine  \n",
       "501694   Under Way Using Engine  \n",
       "81723                    Moored  \n",
       "1557890  Under Way Using Engine  "
      ]
     },
     "execution_count": 38,
     "metadata": {},
     "output_type": "execute_result"
    }
   ],
   "source": [
    "filtered_df = prepare_df(df, nav_details, target_mmsi, top_navCodes)\n",
    "filtered_df.sample(5)"
   ]
  },
  {
   "cell_type": "code",
   "execution_count": 39,
   "metadata": {},
   "outputs": [
    {
     "data": {
      "text/html": [
       "<div>\n",
       "<style scoped>\n",
       "    .dataframe tbody tr th:only-of-type {\n",
       "        vertical-align: middle;\n",
       "    }\n",
       "\n",
       "    .dataframe tbody tr th {\n",
       "        vertical-align: top;\n",
       "    }\n",
       "\n",
       "    .dataframe thead th {\n",
       "        text-align: right;\n",
       "    }\n",
       "</style>\n",
       "<table border=\"1\" class=\"dataframe\">\n",
       "  <thead>\n",
       "    <tr style=\"text-align: right;\">\n",
       "      <th></th>\n",
       "      <th>mmsi</th>\n",
       "      <th>start_time</th>\n",
       "      <th>end_time</th>\n",
       "      <th>navCode</th>\n",
       "      <th>navDesc</th>\n",
       "      <th>lead_time</th>\n",
       "    </tr>\n",
       "  </thead>\n",
       "  <tbody>\n",
       "    <tr>\n",
       "      <th>0</th>\n",
       "      <td>205792000</td>\n",
       "      <td>2020-03-23 07:23:38</td>\n",
       "      <td>2020-03-23 07:58:32</td>\n",
       "      <td>5</td>\n",
       "      <td>Moored</td>\n",
       "      <td>2094000</td>\n",
       "    </tr>\n",
       "    <tr>\n",
       "      <th>1</th>\n",
       "      <td>205792000</td>\n",
       "      <td>2020-03-23 08:19:31</td>\n",
       "      <td>2020-03-23 21:49:31</td>\n",
       "      <td>1</td>\n",
       "      <td>At Anchor</td>\n",
       "      <td>48600000</td>\n",
       "    </tr>\n",
       "    <tr>\n",
       "      <th>2</th>\n",
       "      <td>205792000</td>\n",
       "      <td>2020-03-23 22:09:20</td>\n",
       "      <td>2020-03-24 05:57:21</td>\n",
       "      <td>0</td>\n",
       "      <td>Under Way Using Engine</td>\n",
       "      <td>28081000</td>\n",
       "    </tr>\n",
       "    <tr>\n",
       "      <th>3</th>\n",
       "      <td>205792000</td>\n",
       "      <td>2020-03-24 06:08:20</td>\n",
       "      <td>2020-03-25 03:32:21</td>\n",
       "      <td>5</td>\n",
       "      <td>Moored</td>\n",
       "      <td>77041000</td>\n",
       "    </tr>\n",
       "    <tr>\n",
       "      <th>4</th>\n",
       "      <td>205792000</td>\n",
       "      <td>2020-03-25 04:01:26</td>\n",
       "      <td>2020-03-25 09:51:28</td>\n",
       "      <td>0</td>\n",
       "      <td>Under Way Using Engine</td>\n",
       "      <td>21002000</td>\n",
       "    </tr>\n",
       "  </tbody>\n",
       "</table>\n",
       "</div>"
      ],
      "text/plain": [
       "        mmsi          start_time            end_time  navCode  \\\n",
       "0  205792000 2020-03-23 07:23:38 2020-03-23 07:58:32        5   \n",
       "1  205792000 2020-03-23 08:19:31 2020-03-23 21:49:31        1   \n",
       "2  205792000 2020-03-23 22:09:20 2020-03-24 05:57:21        0   \n",
       "3  205792000 2020-03-24 06:08:20 2020-03-25 03:32:21        5   \n",
       "4  205792000 2020-03-25 04:01:26 2020-03-25 09:51:28        0   \n",
       "\n",
       "                  navDesc  lead_time  \n",
       "0                  Moored    2094000  \n",
       "1               At Anchor   48600000  \n",
       "2  Under Way Using Engine   28081000  \n",
       "3                  Moored   77041000  \n",
       "4  Under Way Using Engine   21002000  "
      ]
     },
     "execution_count": 39,
     "metadata": {},
     "output_type": "execute_result"
    }
   ],
   "source": [
    "get_contiguous_series(filtered_df)"
   ]
  },
  {
   "cell_type": "markdown",
   "metadata": {},
   "source": [
    "##### *MMSI = 413970021*"
   ]
  },
  {
   "cell_type": "code",
   "execution_count": 40,
   "metadata": {},
   "outputs": [
    {
     "data": {
      "text/html": [
       "<div>\n",
       "<style scoped>\n",
       "    .dataframe tbody tr th:only-of-type {\n",
       "        vertical-align: middle;\n",
       "    }\n",
       "\n",
       "    .dataframe tbody tr th {\n",
       "        vertical-align: top;\n",
       "    }\n",
       "\n",
       "    .dataframe thead th {\n",
       "        text-align: right;\n",
       "    }\n",
       "</style>\n",
       "<table border=\"1\" class=\"dataframe\">\n",
       "  <thead>\n",
       "    <tr style=\"text-align: right;\">\n",
       "      <th></th>\n",
       "      <th>mmsi</th>\n",
       "      <th>start_time</th>\n",
       "      <th>end_time</th>\n",
       "      <th>navCode</th>\n",
       "      <th>navDesc</th>\n",
       "      <th>lead_time</th>\n",
       "    </tr>\n",
       "  </thead>\n",
       "  <tbody>\n",
       "    <tr>\n",
       "      <th>0</th>\n",
       "      <td>413970021</td>\n",
       "      <td>2019-03-22 23:49:54</td>\n",
       "      <td>2019-03-29 20:16:09</td>\n",
       "      <td>16</td>\n",
       "      <td>Unknown</td>\n",
       "      <td>591975000</td>\n",
       "    </tr>\n",
       "  </tbody>\n",
       "</table>\n",
       "</div>"
      ],
      "text/plain": [
       "        mmsi          start_time            end_time  navCode  navDesc  \\\n",
       "0  413970021 2019-03-22 23:49:54 2019-03-29 20:16:09       16  Unknown   \n",
       "\n",
       "   lead_time  \n",
       "0  591975000  "
      ]
     },
     "execution_count": 40,
     "metadata": {},
     "output_type": "execute_result"
    }
   ],
   "source": [
    "target_mmsi = 413970021\n",
    "filtered_df = prepare_df(df, nav_details, target_mmsi, top_navCodes)\n",
    "get_contiguous_series(filtered_df)"
   ]
  },
  {
   "cell_type": "markdown",
   "metadata": {},
   "source": [
    "##### *Do you agree with the Navigation Code(s) and Description(s) for this particular vessel?*"
   ]
  },
  {
   "cell_type": "markdown",
   "metadata": {},
   "source": [
    "Yes, I agree with the resulted report and the displayed navigation code and description. As we observed in previous sections on frequency tabulation, items with 'Unknown' navigation description are only represented with `navCode = 16`. What we see in the report consistently displays the same correspondence."
   ]
  }
 ],
 "metadata": {
  "kernelspec": {
   "display_name": ".venv",
   "language": "python",
   "name": "python3"
  },
  "language_info": {
   "codemirror_mode": {
    "name": "ipython",
    "version": 3
   },
   "file_extension": ".py",
   "mimetype": "text/x-python",
   "name": "python",
   "nbconvert_exporter": "python",
   "pygments_lexer": "ipython3",
   "version": "3.10.14"
  },
  "orig_nbformat": 4
 },
 "nbformat": 4,
 "nbformat_minor": 2
}
